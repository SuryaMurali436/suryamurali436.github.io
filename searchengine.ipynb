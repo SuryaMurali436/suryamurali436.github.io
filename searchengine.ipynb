{
  "cells": [
    {
      "cell_type": "markdown",
      "metadata": {
        "id": "view-in-github",
        "colab_type": "text"
      },
      "source": [
        "<a href=\"https://colab.research.google.com/github/SuryaMurali436/suryamurali436.github.io/blob/main/searchengine.ipynb\" target=\"_parent\"><img src=\"https://colab.research.google.com/assets/colab-badge.svg\" alt=\"Open In Colab\"/></a>"
      ]
    },
    {
      "cell_type": "code",
      "execution_count": null,
      "id": "ygdJ_yw4Z-o-",
      "metadata": {
        "id": "ygdJ_yw4Z-o-"
      },
      "outputs": [],
      "source": [
        "!pip install requests\n",
        "!pip install html5lib\n",
        "!pip install bs4"
      ]
    },
    {
      "cell_type": "markdown",
      "id": "jn2RKFRfZ-pH",
      "metadata": {
        "id": "jn2RKFRfZ-pH"
      },
      "source": [
        "## Importing of necessary libraries"
      ]
    },
    {
      "cell_type": "code",
      "execution_count": null,
      "id": "oGG-Vu4sZ-pK",
      "metadata": {
        "id": "oGG-Vu4sZ-pK"
      },
      "outputs": [],
      "source": [
        "!pip install scrapy"
      ]
    },
    {
      "cell_type": "code",
      "execution_count": null,
      "id": "5n9SccmlZ-pM",
      "metadata": {
        "id": "5n9SccmlZ-pM"
      },
      "outputs": [],
      "source": [
        "pip install mechanicalsoup"
      ]
    },
    {
      "cell_type": "markdown",
      "id": "rklkcmhZZ-pN",
      "metadata": {
        "id": "rklkcmhZZ-pN"
      },
      "source": [
        "## Providing the URL "
      ]
    },
    {
      "cell_type": "code",
      "execution_count": null,
      "id": "OjUPGnzOZ-pO",
      "metadata": {
        "id": "OjUPGnzOZ-pO"
      },
      "outputs": [],
      "source": [
        "import requests\n",
        "URL = \"https://pureportal.coventry.ac.uk/en/organisations/research-centre-for-intelligent-healthcare\"\n",
        "r = requests.get(URL)\n",
        "print(r.content)"
      ]
    },
    {
      "cell_type": "code",
      "execution_count": null,
      "id": "j3GVx2GVZ-pP",
      "metadata": {
        "id": "j3GVx2GVZ-pP"
      },
      "outputs": [],
      "source": [
        "import requests\n",
        "from bs4 import BeautifulSoup\n",
        "  \n",
        "URL = \"https://pureportal.coventry.ac.uk/en/organisations/research-centre-for-intelligent-healthcare\"\n",
        "r = requests.get(URL)\n",
        "htmlContent = r.content \n",
        "print(htmlContent)\n"
      ]
    },
    {
      "cell_type": "code",
      "execution_count": null,
      "id": "hsxjpFSSZ-pQ",
      "metadata": {
        "id": "hsxjpFSSZ-pQ"
      },
      "outputs": [],
      "source": [
        "soup = BeautifulSoup(htmlContent, 'html.parser') \n",
        "print(soup.prettify())"
      ]
    },
    {
      "cell_type": "code",
      "execution_count": null,
      "id": "QuvnUQfxZ-pS",
      "metadata": {
        "id": "QuvnUQfxZ-pS"
      },
      "outputs": [],
      "source": [
        "title = soup.title\n",
        "print(type(title.string))"
      ]
    },
    {
      "cell_type": "markdown",
      "id": "H4deF80CZ-pT",
      "metadata": {
        "id": "H4deF80CZ-pT"
      },
      "source": [
        "## Generating the title of the paper"
      ]
    },
    {
      "cell_type": "code",
      "execution_count": null,
      "id": "_uktULZkZ-pU",
      "metadata": {
        "id": "_uktULZkZ-pU"
      },
      "outputs": [],
      "source": [
        "title = soup.find_all('title')\n",
        "print(title)"
      ]
    },
    {
      "cell_type": "code",
      "execution_count": null,
      "id": "z2yhHzKvZ-pV",
      "metadata": {
        "id": "z2yhHzKvZ-pV"
      },
      "outputs": [],
      "source": [
        "img = soup.find_all('img')\n",
        "print(img)"
      ]
    },
    {
      "cell_type": "markdown",
      "id": "6CS7Ak91Z-pW",
      "metadata": {
        "id": "6CS7Ak91Z-pW"
      },
      "source": [
        "## Showing of the Anchor tag"
      ]
    },
    {
      "cell_type": "code",
      "execution_count": null,
      "id": "a3SOGh7pZ-pX",
      "metadata": {
        "id": "a3SOGh7pZ-pX"
      },
      "outputs": [],
      "source": [
        "anchors = soup.find_all('a')\n",
        "print(anchors)"
      ]
    },
    {
      "cell_type": "markdown",
      "id": "Hg2w2yg0Z-pY",
      "metadata": {
        "id": "Hg2w2yg0Z-pY"
      },
      "source": [
        "## Displaying the author details "
      ]
    },
    {
      "cell_type": "code",
      "execution_count": null,
      "id": "BjGCDJl-Z-pY",
      "metadata": {
        "id": "BjGCDJl-Z-pY"
      },
      "outputs": [],
      "source": [
        "print(soup.find('a'))\n",
        "print(soup.find('a')['class'])\n",
        "print(soup.find_all(\"a\", class_=\"lead\"))\n",
        "print(soup.find('p').get_text())\n",
        "print(soup.get_text())"
      ]
    },
    {
      "cell_type": "code",
      "execution_count": null,
      "id": "tFWyY2nCZ-pZ",
      "metadata": {
        "id": "tFWyY2nCZ-pZ"
      },
      "outputs": [],
      "source": [
        "span = soup.find_all('span')\n",
        "print(span)"
      ]
    },
    {
      "cell_type": "code",
      "execution_count": null,
      "id": "EjBktmOdZ-pa",
      "metadata": {
        "id": "EjBktmOdZ-pa"
      },
      "outputs": [],
      "source": [
        "th = soup.find_all('li')\n",
        "print(th)"
      ]
    },
    {
      "cell_type": "code",
      "execution_count": null,
      "id": "O42niP6HZ-pb",
      "metadata": {
        "id": "O42niP6HZ-pb"
      },
      "outputs": [],
      "source": [
        "row = soup.find('p') \n",
        "print(row)            \n",
        "print(\"-----------------Result------------------\")\n",
        "print(row.get_text())"
      ]
    },
    {
      "cell_type": "markdown",
      "id": "df14146c",
      "metadata": {
        "id": "df14146c"
      },
      "source": [
        "## Displaying the research paper"
      ]
    },
    {
      "cell_type": "code",
      "execution_count": null,
      "id": "jE1bSgDwZ-pb",
      "metadata": {
        "id": "jE1bSgDwZ-pb",
        "scrolled": false
      },
      "outputs": [],
      "source": [
        "rows = soup.find_all('p')\n",
        "for row in rows:        \n",
        "    print(row.get_text())"
      ]
    },
    {
      "cell_type": "code",
      "execution_count": 16,
      "id": "MGR4Xfl9Z-pc",
      "metadata": {
        "id": "MGR4Xfl9Z-pc"
      },
      "outputs": [],
      "source": [
        "URL = 'https://pureportal.coventry.ac.uk/en/organisations/research-centre-for-intelligent-healthcare'\n",
        "content = requests.get(URL)"
      ]
    },
    {
      "cell_type": "code",
      "execution_count": 17,
      "id": "Af_r-jmCZ-pd",
      "metadata": {
        "id": "Af_r-jmCZ-pd"
      },
      "outputs": [],
      "source": [
        "soup = BeautifulSoup(content.text, 'html.parser')"
      ]
    },
    {
      "cell_type": "code",
      "execution_count": null,
      "id": "ROLSaYS8Z-pf",
      "metadata": {
        "id": "ROLSaYS8Z-pf"
      },
      "outputs": [],
      "source": [
        "print(soup.select(\"html head title\")[0].get_text())"
      ]
    },
    {
      "cell_type": "code",
      "execution_count": 19,
      "id": "LArAi8UaZ-pf",
      "metadata": {
        "id": "LArAi8UaZ-pf"
      },
      "outputs": [],
      "source": [
        "import time\n",
        "import mechanicalsoup"
      ]
    },
    {
      "cell_type": "code",
      "execution_count": 20,
      "id": "uPBLZMvjZ-pf",
      "metadata": {
        "id": "uPBLZMvjZ-pf"
      },
      "outputs": [],
      "source": [
        "browser = mechanicalsoup.Browser()"
      ]
    },
    {
      "cell_type": "code",
      "execution_count": 21,
      "id": "XRDcDBrJZ-pg",
      "metadata": {
        "id": "XRDcDBrJZ-pg"
      },
      "outputs": [],
      "source": [
        "url = \"https://pureportal.coventry.ac.uk/en/organisations/research-centre-for-intelligent-healthcare\"\n",
        "page = browser.get(url)"
      ]
    },
    {
      "cell_type": "code",
      "execution_count": null,
      "id": "0erTbKOgZ-pg",
      "metadata": {
        "id": "0erTbKOgZ-pg"
      },
      "outputs": [],
      "source": [
        "page"
      ]
    },
    {
      "cell_type": "code",
      "execution_count": null,
      "id": "nH_8mR2UZ-ph",
      "metadata": {
        "id": "nH_8mR2UZ-ph"
      },
      "outputs": [],
      "source": [
        "page.soup"
      ]
    }
  ],
  "metadata": {
    "colab": {
      "provenance": [],
      "include_colab_link": true
    },
    "kernelspec": {
      "display_name": "Python 3",
      "language": "python",
      "name": "python3"
    },
    "language_info": {
      "codemirror_mode": {
        "name": "ipython",
        "version": 3
      },
      "file_extension": ".py",
      "mimetype": "text/x-python",
      "name": "python",
      "nbconvert_exporter": "python",
      "pygments_lexer": "ipython3",
      "version": "3.8.8"
    }
  },
  "nbformat": 4,
  "nbformat_minor": 5
}